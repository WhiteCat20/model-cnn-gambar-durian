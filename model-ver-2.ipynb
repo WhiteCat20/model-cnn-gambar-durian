{
 "cells": [
  {
   "cell_type": "code",
   "execution_count": 28,
   "metadata": {},
   "outputs": [],
   "source": [
    "import matplotlib.pyplot as plt\n",
    "import numpy as np\n",
    "import cv2\n",
    "import os\n",
    "import PIL\n",
    "import tensorflow as tf\n",
    "\n",
    "from tensorflow import keras\n",
    "from tensorflow.keras import layers\n",
    "from tensorflow.keras.models import Sequential\n",
    "\n",
    "import pathlib\n",
    "from sklearn.model_selection import train_test_split\n",
    "\n",
    "from sklearn.metrics import confusion_matrix\n",
    "import seaborn as sns"
   ]
  },
  {
   "cell_type": "code",
   "execution_count": 29,
   "metadata": {},
   "outputs": [
    {
     "data": {
      "text/plain": [
       "'datasets'"
      ]
     },
     "execution_count": 29,
     "metadata": {},
     "output_type": "execute_result"
    }
   ],
   "source": [
    "data_dir = 'datasets'\n",
    "data_dir"
   ]
  },
  {
   "cell_type": "code",
   "execution_count": 30,
   "metadata": {},
   "outputs": [],
   "source": [
    "data_dir = pathlib.Path(data_dir)\n",
    "# data_dir"
   ]
  },
  {
   "cell_type": "code",
   "execution_count": 31,
   "metadata": {},
   "outputs": [
    {
     "data": {
      "text/plain": [
       "[WindowsPath('datasets/ripe/masked_output_IMG20240131124259.jpg'),\n",
       " WindowsPath('datasets/ripe/masked_output_IMG20240131124319.jpg'),\n",
       " WindowsPath('datasets/ripe/masked_output_IMG20240131131157.jpg'),\n",
       " WindowsPath('datasets/ripe/masked_output_IMG20240131131208.jpg'),\n",
       " WindowsPath('datasets/ripe/masked_output_IMG20240131131231.jpg')]"
      ]
     },
     "execution_count": 31,
     "metadata": {},
     "output_type": "execute_result"
    }
   ],
   "source": [
    "list(data_dir.glob('*/*.jpg'))[:5]"
   ]
  },
  {
   "cell_type": "code",
   "execution_count": 32,
   "metadata": {},
   "outputs": [],
   "source": [
    "image_count = len(list(data_dir.glob('*/*.jpg')))\n",
    "# print(image_count)"
   ]
  },
  {
   "cell_type": "code",
   "execution_count": 33,
   "metadata": {},
   "outputs": [],
   "source": [
    "ripes = list(data_dir.glob('ripe/*'))\n",
    "# ripes[:5]"
   ]
  },
  {
   "cell_type": "code",
   "execution_count": 34,
   "metadata": {},
   "outputs": [],
   "source": [
    "# PIL.Image.open(str(ripes[1]))"
   ]
  },
  {
   "cell_type": "code",
   "execution_count": 35,
   "metadata": {},
   "outputs": [],
   "source": [
    "unripes = list(data_dir.glob('unripe/*'))\n",
    "# PIL.Image.open(unripes[0])"
   ]
  },
  {
   "cell_type": "code",
   "execution_count": 36,
   "metadata": {},
   "outputs": [],
   "source": [
    "durian_images_dict = {\n",
    "    'ripe' : list(data_dir.glob('ripe/*')),\n",
    "    'unripe' : list(data_dir.glob('unripe/*')),\n",
    "} "
   ]
  },
  {
   "cell_type": "code",
   "execution_count": 37,
   "metadata": {},
   "outputs": [],
   "source": [
    "durian_labels_dict = {\n",
    "    'ripe' : 0,\n",
    "    'unripe' : 1\n",
    "}"
   ]
  },
  {
   "cell_type": "code",
   "execution_count": 38,
   "metadata": {},
   "outputs": [
    {
     "data": {
      "text/plain": [
       "[WindowsPath('datasets/ripe/masked_output_IMG20240131124259.jpg'),\n",
       " WindowsPath('datasets/ripe/masked_output_IMG20240131124319.jpg'),\n",
       " WindowsPath('datasets/ripe/masked_output_IMG20240131131157.jpg'),\n",
       " WindowsPath('datasets/ripe/masked_output_IMG20240131131208.jpg'),\n",
       " WindowsPath('datasets/ripe/masked_output_IMG20240131131231.jpg')]"
      ]
     },
     "execution_count": 38,
     "metadata": {},
     "output_type": "execute_result"
    }
   ],
   "source": [
    "durian_images_dict['ripe'][:5]"
   ]
  },
  {
   "cell_type": "code",
   "execution_count": 39,
   "metadata": {},
   "outputs": [
    {
     "data": {
      "text/plain": [
       "'datasets\\\\ripe\\\\masked_output_IMG20240131124259.jpg'"
      ]
     },
     "execution_count": 39,
     "metadata": {},
     "output_type": "execute_result"
    }
   ],
   "source": [
    "str(durian_images_dict['ripe'][0])"
   ]
  },
  {
   "cell_type": "code",
   "execution_count": 40,
   "metadata": {},
   "outputs": [
    {
     "data": {
      "text/plain": [
       "(3072, 3072, 3)"
      ]
     },
     "execution_count": 40,
     "metadata": {},
     "output_type": "execute_result"
    }
   ],
   "source": [
    "img = cv2.imread(str(durian_images_dict['ripe'][0]))\n",
    "img.shape"
   ]
  },
  {
   "cell_type": "code",
   "execution_count": 41,
   "metadata": {},
   "outputs": [],
   "source": [
    "X, y = [], []\n",
    "\n",
    "output_folder = \"resized_images\"\n",
    "\n",
    "for durian_ripeness, images in durian_images_dict.items():\n",
    "    for index, image in enumerate(images):\n",
    "        img = cv2.imread(str(image))\n",
    "        resized_img = cv2.resize(img,(200,200))\n",
    "        X.append(resized_img)\n",
    "        y.append(durian_labels_dict[durian_ripeness])\n",
    "        \n",
    "        # Uncomment if you want to check all the resized images\n",
    "        # output_name = f\"{durian_ripeness}_{index}.jpg\"\n",
    "        # output_path = os.path.join(output_folder, output_name)\n",
    "        # cv2.imwrite(output_path, resized_img)"
   ]
  },
  {
   "cell_type": "code",
   "execution_count": 42,
   "metadata": {},
   "outputs": [],
   "source": [
    "X = np.array(X)\n",
    "y = np.array(y)"
   ]
  },
  {
   "cell_type": "code",
   "execution_count": 43,
   "metadata": {},
   "outputs": [],
   "source": [
    "from sklearn.model_selection import train_test_split\n",
    "X_train, X_test, y_train, y_test = train_test_split(X, y, random_state=0)"
   ]
  },
  {
   "cell_type": "code",
   "execution_count": 44,
   "metadata": {},
   "outputs": [],
   "source": [
    "X_train_scaled = X_train /255\n",
    "X_test_scaled = X_test /255"
   ]
  },
  {
   "cell_type": "code",
   "execution_count": 59,
   "metadata": {},
   "outputs": [],
   "source": [
    "convDim = 5\n",
    "model = tf.keras.models.Sequential([\n",
    "    tf.keras.layers.Conv2D(16, (convDim,convDim), activation='relu', input_shape=(200,200,3)),\n",
    "    tf.keras.layers.MaxPool2D(2,2),\n",
    "    tf.keras.layers.Dropout(0.25),  # Add dropout layer\n",
    "    tf.keras.layers.Conv2D(32, (convDim,convDim), activation='relu'),\n",
    "    tf.keras.layers.MaxPool2D(2,2),\n",
    "    tf.keras.layers.Dropout(0.25),  # Add dropout layer\n",
    "    tf.keras.layers.Conv2D(64, (convDim,convDim), activation='relu'),\n",
    "    tf.keras.layers.MaxPool2D(2,2),\n",
    "    tf.keras.layers.Dropout(0.2),  # Add dropout layer\n",
    "    tf.keras.layers.Flatten(),\n",
    "    tf.keras.layers.Dense(512, activation='relu'),\n",
    "    tf.keras.layers.Dropout(0.25),  # Add dropout layer\n",
    "    tf.keras.layers.Dense(128, activation='relu'),\n",
    "    tf.keras.layers.Dropout(0.25),  # Add dropout layer\n",
    "    tf.keras.layers.Dense(64, activation='relu'),\n",
    "    tf.keras.layers.Dropout(0.25),  # Add dropout layer\n",
    "    tf.keras.layers.Dense(8, activation='relu'),    \n",
    "    tf.keras.layers.Dropout(0.25),  # Add dropout layer\n",
    "    tf.keras.layers.Dense(1, activation='sigmoid')\n",
    "])\n",
    "model.compile(loss='binary_crossentropy', optimizer='adam', metrics=['accuracy'])\n",
    "# model.summary()"
   ]
  },
  {
   "cell_type": "code",
   "execution_count": 60,
   "metadata": {},
   "outputs": [],
   "source": [
    "class myCallback(tf.keras.callbacks.Callback):\n",
    "  def on_epoch_end(self, epoch, logs={}):\n",
    "    '''\n",
    "    Halts the training when the loss falls below 0.4\n",
    "\n",
    "    Args:\n",
    "      epoch (integer) - index of epoch (required but unused in the function definition below)\n",
    "      logs (dict) - metric results from the training epoch\n",
    "    '''\n",
    "\n",
    "    # Check the loss\n",
    "    if(logs.get('accuracy') == 1.0):\n",
    "\n",
    "      # Stop if threshold is met\n",
    "      print(\"\\Accuracy is reached than 1.0 so cancelling training!\")\n",
    "      self.model.stop_training = True\n",
    "\n",
    "# Instantiate class\n",
    "callbacks = myCallback()"
   ]
  },
  {
   "cell_type": "code",
   "execution_count": 61,
   "metadata": {},
   "outputs": [
    {
     "name": "stdout",
     "output_type": "stream",
     "text": [
      "Epoch 1/50\n",
      "3/3 [==============================] - 10s 3s/step - loss: 0.8329 - accuracy: 0.4800 - val_loss: 0.6389 - val_accuracy: 0.5200\n",
      "Epoch 2/50\n",
      "3/3 [==============================] - 5s 2s/step - loss: 0.6615 - accuracy: 0.5600 - val_loss: 0.6333 - val_accuracy: 0.5200\n",
      "Epoch 3/50\n",
      "3/3 [==============================] - 5s 2s/step - loss: 0.6385 - accuracy: 0.5600 - val_loss: 0.5993 - val_accuracy: 0.5200\n",
      "Epoch 4/50\n",
      "3/3 [==============================] - 5s 2s/step - loss: 0.6214 - accuracy: 0.5067 - val_loss: 0.5253 - val_accuracy: 0.6400\n",
      "Epoch 5/50\n",
      "3/3 [==============================] - 5s 1s/step - loss: 0.5303 - accuracy: 0.6800 - val_loss: 0.4746 - val_accuracy: 1.0000\n",
      "Epoch 6/50\n",
      "3/3 [==============================] - 5s 1s/step - loss: 0.4604 - accuracy: 0.8133 - val_loss: 0.3668 - val_accuracy: 0.8800\n",
      "Epoch 7/50\n",
      "3/3 [==============================] - 5s 1s/step - loss: 0.4809 - accuracy: 0.8133 - val_loss: 0.2860 - val_accuracy: 1.0000\n",
      "Epoch 8/50\n",
      "3/3 [==============================] - 5s 2s/step - loss: 0.3661 - accuracy: 0.8667 - val_loss: 0.1243 - val_accuracy: 1.0000\n",
      "Epoch 9/50\n",
      "3/3 [==============================] - 5s 1s/step - loss: 0.2569 - accuracy: 0.9200 - val_loss: 0.0788 - val_accuracy: 1.0000\n",
      "Epoch 10/50\n",
      "3/3 [==============================] - 5s 1s/step - loss: 0.1863 - accuracy: 0.8667 - val_loss: 0.0145 - val_accuracy: 1.0000\n",
      "Epoch 11/50\n",
      "3/3 [==============================] - 5s 2s/step - loss: 0.1880 - accuracy: 0.9067 - val_loss: 0.0113 - val_accuracy: 1.0000\n",
      "Epoch 12/50\n",
      "3/3 [==============================] - 5s 2s/step - loss: 0.1403 - accuracy: 0.9600 - val_loss: 0.2086 - val_accuracy: 0.8800\n",
      "Epoch 13/50\n",
      "3/3 [==============================] - 5s 1s/step - loss: 0.2699 - accuracy: 0.9067 - val_loss: 0.0013 - val_accuracy: 1.0000\n",
      "Epoch 14/50\n",
      "3/3 [==============================] - 5s 1s/step - loss: 0.2992 - accuracy: 0.9067 - val_loss: 0.0030 - val_accuracy: 1.0000\n",
      "Epoch 15/50\n",
      "3/3 [==============================] - 5s 1s/step - loss: 0.1218 - accuracy: 0.9467 - val_loss: 0.0487 - val_accuracy: 0.9600\n",
      "Epoch 16/50\n",
      "3/3 [==============================] - 7s 2s/step - loss: 0.1024 - accuracy: 0.9733 - val_loss: 0.0144 - val_accuracy: 1.0000\n",
      "Epoch 17/50\n",
      "3/3 [==============================] - 6s 2s/step - loss: 0.0884 - accuracy: 0.9600 - val_loss: 0.0051 - val_accuracy: 1.0000\n",
      "Epoch 18/50\n",
      "3/3 [==============================] - 5s 1s/step - loss: 0.0530 - accuracy: 0.9867 - val_loss: 0.0020 - val_accuracy: 1.0000\n",
      "Epoch 19/50\n",
      "3/3 [==============================] - 4s 1s/step - loss: 0.0202 - accuracy: 1.0000 - val_loss: 8.0757e-04 - val_accuracy: 1.0000\n",
      "Epoch 20/50\n",
      "3/3 [==============================] - 4s 1s/step - loss: 0.0306 - accuracy: 1.0000 - val_loss: 5.1383e-04 - val_accuracy: 1.0000\n",
      "Epoch 21/50\n",
      "3/3 [==============================] - 4s 1s/step - loss: 0.0667 - accuracy: 0.9733 - val_loss: 0.0054 - val_accuracy: 1.0000\n",
      "Epoch 22/50\n",
      "3/3 [==============================] - 4s 1s/step - loss: 0.0566 - accuracy: 0.9733 - val_loss: 0.0198 - val_accuracy: 1.0000\n",
      "Epoch 23/50\n",
      "3/3 [==============================] - 4s 1s/step - loss: 0.0745 - accuracy: 0.9867 - val_loss: 0.0013 - val_accuracy: 1.0000\n",
      "Epoch 24/50\n",
      "3/3 [==============================] - 4s 1s/step - loss: 0.0269 - accuracy: 0.9733 - val_loss: 2.2585e-04 - val_accuracy: 1.0000\n",
      "Epoch 25/50\n",
      "3/3 [==============================] - 5s 2s/step - loss: 0.1111 - accuracy: 0.9600 - val_loss: 1.9960e-04 - val_accuracy: 1.0000\n",
      "Epoch 26/50\n",
      "3/3 [==============================] - 8s 2s/step - loss: 0.0736 - accuracy: 0.9733 - val_loss: 0.0032 - val_accuracy: 1.0000\n",
      "Epoch 27/50\n",
      "3/3 [==============================] - 5s 2s/step - loss: 0.1978 - accuracy: 0.9733 - val_loss: 0.0029 - val_accuracy: 1.0000\n",
      "Epoch 28/50\n",
      "3/3 [==============================] - 5s 2s/step - loss: 0.0617 - accuracy: 0.9733 - val_loss: 3.2657e-04 - val_accuracy: 1.0000\n",
      "Epoch 29/50\n",
      "3/3 [==============================] - 5s 2s/step - loss: 0.0318 - accuracy: 1.0000 - val_loss: 0.0032 - val_accuracy: 1.0000\n",
      "Epoch 30/50\n",
      "3/3 [==============================] - 6s 2s/step - loss: 0.0405 - accuracy: 0.9733 - val_loss: 1.9633e-04 - val_accuracy: 1.0000\n",
      "Epoch 31/50\n",
      "3/3 [==============================] - 10s 2s/step - loss: 0.0308 - accuracy: 0.9867 - val_loss: 4.1090e-04 - val_accuracy: 1.0000\n",
      "Epoch 32/50\n",
      "3/3 [==============================] - 6s 1s/step - loss: 0.0245 - accuracy: 1.0000 - val_loss: 6.5930e-04 - val_accuracy: 1.0000\n",
      "Epoch 33/50\n",
      "3/3 [==============================] - 5s 1s/step - loss: 0.0355 - accuracy: 1.0000 - val_loss: 6.6121e-04 - val_accuracy: 1.0000\n",
      "Epoch 34/50\n",
      "3/3 [==============================] - 5s 1s/step - loss: 0.0199 - accuracy: 1.0000 - val_loss: 4.9478e-04 - val_accuracy: 1.0000\n",
      "Epoch 35/50\n",
      "3/3 [==============================] - 4s 1s/step - loss: 0.0379 - accuracy: 1.0000 - val_loss: 2.0807e-04 - val_accuracy: 1.0000\n",
      "Epoch 36/50\n",
      "3/3 [==============================] - 4s 1s/step - loss: 0.0116 - accuracy: 0.9867 - val_loss: 6.2257e-05 - val_accuracy: 1.0000\n",
      "Epoch 37/50\n",
      "3/3 [==============================] - 4s 1s/step - loss: 0.0596 - accuracy: 0.9733 - val_loss: 3.4146e-05 - val_accuracy: 1.0000\n",
      "Epoch 38/50\n",
      "3/3 [==============================] - 4s 1s/step - loss: 0.0271 - accuracy: 1.0000 - val_loss: 1.8932e-05 - val_accuracy: 1.0000\n",
      "Epoch 39/50\n",
      "3/3 [==============================] - 4s 1s/step - loss: 0.0452 - accuracy: 0.9867 - val_loss: 6.7890e-06 - val_accuracy: 1.0000\n",
      "Epoch 40/50\n",
      "3/3 [==============================] - 4s 1s/step - loss: 6.8045e-04 - accuracy: 1.0000 - val_loss: 2.6030e-06 - val_accuracy: 1.0000\n",
      "Epoch 41/50\n",
      "3/3 [==============================] - 4s 1s/step - loss: 0.0575 - accuracy: 0.9733 - val_loss: 1.6570e-06 - val_accuracy: 1.0000\n",
      "Epoch 42/50\n",
      "3/3 [==============================] - 4s 1s/step - loss: 0.0235 - accuracy: 0.9867 - val_loss: 1.1237e-06 - val_accuracy: 1.0000\n",
      "Epoch 43/50\n",
      "3/3 [==============================] - 4s 1s/step - loss: 0.0376 - accuracy: 1.0000 - val_loss: 8.0679e-07 - val_accuracy: 1.0000\n",
      "Epoch 44/50\n",
      "3/3 [==============================] - 4s 1s/step - loss: 0.0292 - accuracy: 0.9867 - val_loss: 8.3636e-07 - val_accuracy: 1.0000\n",
      "Epoch 45/50\n",
      "3/3 [==============================] - 4s 1s/step - loss: 0.0192 - accuracy: 1.0000 - val_loss: 9.1677e-07 - val_accuracy: 1.0000\n",
      "Epoch 46/50\n",
      "3/3 [==============================] - 4s 1s/step - loss: 0.0167 - accuracy: 1.0000 - val_loss: 7.1321e-07 - val_accuracy: 1.0000\n",
      "Epoch 47/50\n",
      "3/3 [==============================] - 4s 1s/step - loss: 0.0367 - accuracy: 0.9867 - val_loss: 5.5193e-07 - val_accuracy: 1.0000\n",
      "Epoch 48/50\n",
      "3/3 [==============================] - 4s 1s/step - loss: 0.0098 - accuracy: 1.0000 - val_loss: 4.3820e-07 - val_accuracy: 1.0000\n",
      "Epoch 49/50\n",
      "3/3 [==============================] - 4s 1s/step - loss: 0.0098 - accuracy: 1.0000 - val_loss: 3.3669e-07 - val_accuracy: 1.0000\n",
      "Epoch 50/50\n",
      "3/3 [==============================] - 4s 1s/step - loss: 0.0242 - accuracy: 0.9867 - val_loss: 4.1109e-07 - val_accuracy: 1.0000\n"
     ]
    }
   ],
   "source": [
    "EPOCH = 50\n",
    "BATCH_SIZE = 32\n",
    "model_fit = model.fit(X_train_scaled, y_train, epochs=EPOCH, validation_data=(X_test_scaled, y_test), batch_size=BATCH_SIZE) "
   ]
  },
  {
   "cell_type": "code",
   "execution_count": 62,
   "metadata": {},
   "outputs": [
    {
     "name": "stdout",
     "output_type": "stream",
     "text": [
      "1/1 [==============================] - 0s 250ms/step - loss: 4.1109e-07 - accuracy: 1.0000\n"
     ]
    },
    {
     "data": {
      "text/plain": [
       "[4.110948168545292e-07, 1.0]"
      ]
     },
     "execution_count": 62,
     "metadata": {},
     "output_type": "execute_result"
    }
   ],
   "source": [
    "model.evaluate(X_test_scaled,y_test)"
   ]
  },
  {
   "cell_type": "code",
   "execution_count": 63,
   "metadata": {},
   "outputs": [
    {
     "name": "stdout",
     "output_type": "stream",
     "text": [
      "1/1 [==============================] - 0s 291ms/step\n"
     ]
    },
    {
     "data": {
      "text/plain": [
       "array([[8.20340567e-15],\n",
       "       [1.00000000e+00],\n",
       "       [8.11797407e-10],\n",
       "       [9.99995947e-01],\n",
       "       [9.99999225e-01],\n",
       "       [9.99999285e-01],\n",
       "       [3.60415795e-17],\n",
       "       [9.99999940e-01],\n",
       "       [9.99999881e-01],\n",
       "       [9.99996364e-01],\n",
       "       [1.00000000e+00],\n",
       "       [9.99999702e-01],\n",
       "       [9.99999821e-01],\n",
       "       [1.10697204e-13],\n",
       "       [6.03484188e-16],\n",
       "       [1.16416046e-23],\n",
       "       [4.61738422e-20],\n",
       "       [6.36699462e-15],\n",
       "       [7.89435466e-13],\n",
       "       [6.24963651e-15],\n",
       "       [8.56853966e-09],\n",
       "       [9.99999940e-01],\n",
       "       [3.58907570e-08],\n",
       "       [9.99999702e-01],\n",
       "       [1.97712763e-10]], dtype=float32)"
      ]
     },
     "execution_count": 63,
     "metadata": {},
     "output_type": "execute_result"
    }
   ],
   "source": [
    "predictions = model.predict(X_test_scaled)\n",
    "predictions"
   ]
  },
  {
   "cell_type": "code",
   "execution_count": 64,
   "metadata": {},
   "outputs": [
    {
     "data": {
      "image/png": "[encoded data removed]",
      "text/plain": [
       "<Figure size 1200x600 with 2 Axes>"
      ]
     },
     "metadata": {},
     "output_type": "display_data"
    }
   ],
   "source": [
    "# Plot training and validation history\n",
    "plt.figure(figsize=(12, 6))\n",
    "\n",
    "# Plot training & validation accuracy values\n",
    "plt.subplot(1, 2, 1)\n",
    "plt.plot(model_fit.history['accuracy'])\n",
    "plt.plot(model_fit.history['val_accuracy'])  # Add validation accuracy\n",
    "plt.title('Model Accuracy')\n",
    "plt.xlabel('Epoch')\n",
    "plt.ylabel('Accuracy')\n",
    "plt.legend(['Train', 'Validation'], loc='upper left')\n",
    "\n",
    "# Plot training & validation loss values\n",
    "plt.subplot(1, 2, 2)\n",
    "plt.plot(model_fit.history['loss'])\n",
    "plt.plot(model_fit.history['val_loss'])  # Add validation loss\n",
    "plt.title('Model Loss')\n",
    "plt.xlabel('Epoch')\n",
    "plt.ylabel('Loss')\n",
    "plt.legend(['Train', 'Validation'], loc='upper left')\n",
    "\n",
    "plt.tight_layout()\n",
    "plt.show()"
   ]
  },
  {
   "cell_type": "code",
   "execution_count": 65,
   "metadata": {},
   "outputs": [
    {
     "name": "stdout",
     "output_type": "stream",
     "text": [
      "1/1 - 0s - loss: 0.0000e+00 - accuracy: 1.0000 - 394ms/epoch - 394ms/step\n",
      "1.0\n"
     ]
    }
   ],
   "source": [
    "test_loss, test_acc = model.evaluate(X_test,  y_test, verbose=2)\n",
    "print(test_acc)"
   ]
  },
  {
   "cell_type": "code",
   "execution_count": 66,
   "metadata": {},
   "outputs": [
    {
     "name": "stdout",
     "output_type": "stream",
     "text": [
      "WARNING:tensorflow:5 out of the last 5 calls to <function Model.make_predict_function.<locals>.predict_function at 0x0000020DAE268CC0> triggered tf.function retracing. Tracing is expensive and the excessive number of tracings could be due to (1) creating @tf.function repeatedly in a loop, (2) passing tensors with different shapes, (3) passing Python objects instead of tensors. For (1), please define your @tf.function outside of the loop. For (2), @tf.function has reduce_retracing=True option that can avoid unnecessary retracing. For (3), please refer to https://www.tensorflow.org/guide/function#controlling_retracing and https://www.tensorflow.org/api_docs/python/tf/function for  more details.\n",
      "1/1 [==============================] - 0s 296ms/step\n"
     ]
    },
    {
     "data": {
      "image/png": "[encoded data removed]",
      "text/plain": [
       "<Figure size 800x600 with 2 Axes>"
      ]
     },
     "metadata": {},
     "output_type": "display_data"
    }
   ],
   "source": [
    "# Generate predictions on the test set\n",
    "y_pred = model.predict(X_test)\n",
    "y_pred_classes = (y_pred > 0.5).astype(int)  # Assuming it's a binary classification problem\n",
    "\n",
    "# Generate the confusion matrix\n",
    "conf_mat = confusion_matrix(y_test, y_pred_classes)\n",
    "\n",
    "# Plot the confusion matrix using seaborn\n",
    "plt.figure(figsize=(8, 6))\n",
    "sns.heatmap(conf_mat, annot=True, fmt='d', cmap='Blues', xticklabels=['Unripe', 'Ripe'], yticklabels=['Unripe', 'Ripe'])\n",
    "plt.title('Confusion Matrix')\n",
    "plt.xlabel('Predicted')\n",
    "plt.ylabel('True')\n",
    "plt.show()"
   ]
  },
  {
   "cell_type": "code",
   "execution_count": 68,
   "metadata": {},
   "outputs": [
    {
     "name": "stderr",
     "output_type": "stream",
     "text": [
      "c:\\Users\\fzrah\\AppData\\Local\\Programs\\Python\\Python311\\Lib\\site-packages\\keras\\src\\engine\\training.py:3079: UserWarning: You are saving your model as an HDF5 file via `model.save()`. This file format is considered legacy. We recommend using instead the native Keras format, e.g. `model.save('my_model.keras')`.\n",
      "  saving_api.save_model(\n"
     ]
    }
   ],
   "source": [
    "# Saving the model \n",
    "model.save(\"saved_model/Conv5-Gambar.h5\")"
   ]
  }
 ],
 "metadata": {
  "kernelspec": {
   "display_name": "Python 3",
   "language": "python",
   "name": "python3"
  },
  "language_info": {
   "codemirror_mode": {
    "name": "ipython",
    "version": 3
   },
   "file_extension": ".py",
   "mimetype": "text/x-python",
   "name": "python",
   "nbconvert_exporter": "python",
   "pygments_lexer": "ipython3",
   "version": "3.11.5"
  }
 },
 "nbformat": 4,
 "nbformat_minor": 2
}
